{
 "cells": [
  {
   "cell_type": "code",
   "execution_count": 1,
   "metadata": {},
   "outputs": [],
   "source": [
    "import json\n",
    "\n",
    "from IPython import display\n",
    "from ipykernel.comm import Comm"
   ]
  },
  {
   "cell_type": "code",
   "execution_count": 4,
   "metadata": {},
   "outputs": [],
   "source": [
    "class CommHandler(object):\n",
    "\n",
    "    def __init__(self):\n",
    "        self.foo = 10\n",
    "        \n",
    "    def target_func(self, comm, msg):\n",
    "        print('In target_func(): msg=%s' % msg)\n",
    "\n",
    "        @comm.on_msg\n",
    "        def _on_msg(msg):\n",
    "            print('In _on_msg(): msg=%s' % msg)\n",
    "            comm.send({'foo': self.foo})\n",
    "            self.foo += 1\n",
    "\n",
    "        comm.send({'foo': 0})\n",
    "\n",
    "# with open(LOG_FILE, 'at') as f:\n",
    "#     f.write('Init!\\n')\n",
    "\n",
    "comm_handler = CommHandler()\n",
    "get_ipython().kernel.comm_manager.register_target(\n",
    "    'foo_comm_target', comm_handler.target_func)"
   ]
  },
  {
   "cell_type": "code",
   "execution_count": 5,
   "metadata": {},
   "outputs": [
    {
     "data": {
      "text/html": [
       "<div id=\"extension-div\">Extension Div<button id=\"comm-connect-button\">Connect</button></div>"
      ],
      "text/plain": [
       "<IPython.core.display.HTML object>"
      ]
     },
     "metadata": {},
     "output_type": "display_data"
    },
    {
     "data": {
      "application/javascript": [
       "console.log('In frontend.js');\n",
       "\n",
       "function openComm() {\n",
       "  if (Jupyter.notebook.kernel == null) {\n",
       "    return;\n",
       "  }\n",
       "  const comm = Jupyter.notebook.kernel.comm_manager.new_comm('foo_comm_target', {\n",
       "    'foo': -1\n",
       "  });\n",
       "\n",
       "  // Register a message handler.\n",
       "  comm.on_msg((msg) => {\n",
       "    console.log('In on_msg(): msg.content.data = ', msg.content.data);\n",
       "  });\n",
       "  return comm;\n",
       "}\n",
       "\n",
       "function main() {\n",
       "  const extensionDiv = document.getElementById('extension-div');\n",
       "  const childDiv = document.createElement('div');\n",
       "  childDiv.textContent = 'Child Div';\n",
       "  extensionDiv.appendChild(childDiv);\n",
       "\n",
       "  let comm;\n",
       "  const connectButton = document.getElementById('comm-connect-button');\n",
       "  console.log('connectButton:', connectButton);  // DEBUG\n",
       "  connectButton.addEventListener('click', () => {\n",
       "    if (comm == null) {\n",
       "      console.log('Calling openComm()');  // DEBUG\n",
       "      comm = openComm();\n",
       "      console.log(comm);  // DEBUG\n",
       "    } else {\n",
       "      comm.send({'foo': 7});\n",
       "    }\n",
       "  });\n",
       "\n",
       "}\n",
       "\n",
       "main();"
      ],
      "text/plain": [
       "<IPython.core.display.Javascript object>"
      ]
     },
     "metadata": {},
     "output_type": "display_data"
    }
   ],
   "source": [
    "display.display(display.HTML(\n",
    "    '<div id=\"extension-div\">Extension Div' +\n",
    "    '<button id=\"comm-connect-button\">Connect</button>' +\n",
    "    '</div>'))\n",
    "display.display(display.Javascript(filename='frontend.js'))"
   ]
  }
 ],
 "metadata": {
  "kernelspec": {
   "display_name": "Python 2",
   "language": "python",
   "name": "python2"
  },
  "language_info": {
   "codemirror_mode": {
    "name": "ipython",
    "version": 2
   },
   "file_extension": ".py",
   "mimetype": "text/x-python",
   "name": "python",
   "nbconvert_exporter": "python",
   "pygments_lexer": "ipython2",
   "version": "2.7.16"
  }
 },
 "nbformat": 4,
 "nbformat_minor": 2
}
