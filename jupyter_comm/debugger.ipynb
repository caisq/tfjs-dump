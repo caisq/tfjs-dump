{
 "cells": [
  {
   "cell_type": "code",
   "execution_count": 1,
   "metadata": {
    "scrolled": false
   },
   "outputs": [],
   "source": [
    "import debugger_magic"
   ]
  },
  {
   "cell_type": "code",
   "execution_count": null,
   "metadata": {
    "scrolled": true
   },
   "outputs": [],
   "source": [
    "%%debugger_magic\n",
    "print(1234)\n",
    "\n",
    "\n",
    "def _add_two(v):\n",
    "    return v + 2\n",
    "\n",
    "\n",
    "def _mul_two(v):\n",
    "    out = v * 2.0\n",
    "    return out\n",
    "\n",
    "\n",
    "str1 = 'foo'\n",
    "str2 = '你好'\n",
    "str3 = str1 + str2\n",
    "x = 1\n",
    "y = 11\n",
    "z = x + y\n",
    "if z > 10:\n",
    "    for i in range(5):\n",
    "        z = z * 2\n",
    "    z = _add_two(z ** 2)\n",
    "    z = _mul_two(z)\n",
    "print(z)"
   ]
  },
  {
   "cell_type": "code",
   "execution_count": null,
   "metadata": {
    "scrolled": false
   },
   "outputs": [],
   "source": [
    "%%debugger_magic\n",
    "import tensorflow as tf\n",
    "tf.enable_eager_execution()\n",
    "\n",
    "\n",
    "\n",
    "def _add_one(v):\n",
    "    return v + 1\n",
    "\n",
    "\n",
    "def _mul_two(v):\n",
    "    out = v * 2.0\n",
    "    return out\n",
    "\n",
    "\n",
    "def main():\n",
    "#   a = tf.constant([[1, 2], [30, 40]], dtype=tf.float32)\n",
    "    all_as = tf.random_normal([10, 20, 20], dtype=tf.float32)\n",
    "    a = tf.unstack(all_as, axis=0)[0]\n",
    "    b = tf.random_uniform(\n",
    "        [20, 1], dtype=tf.float32)\n",
    "    c = tf.matmul(a, b)\n",
    "    x = 8\n",
    "    y = 9\n",
    "    v = [1, 2, 3, 4, 5, 6, 7]  # Array\n",
    "    z = tf.constant(x + y, dtype=tf.float32)\n",
    "    # Invoke _add_one()\n",
    "    z = _add_one(z)\n",
    "    z = _mul_two(z)\n",
    "    print(z)\n",
    "\n",
    "    \n",
    "main()"
   ]
  },
  {
   "cell_type": "code",
   "execution_count": null,
   "metadata": {
    "scrolled": false
   },
   "outputs": [],
   "source": [
    "import asyncio\n",
    "async def fn():\n",
    "  print('hello')\n",
    "  await asyncio.sleep(1)\n",
    "  print('world')\n",
    "\n",
    "await fn()"
   ]
  },
  {
   "cell_type": "code",
   "execution_count": null,
   "metadata": {
    "scrolled": true
   },
   "outputs": [],
   "source": [
    "raise KeyboardInterrupt"
   ]
  },
  {
   "cell_type": "code",
   "execution_count": null,
   "metadata": {
    "scrolled": true
   },
   "outputs": [],
   "source": [
    "_i2"
   ]
  },
  {
   "cell_type": "code",
   "execution_count": null,
   "metadata": {
    "scrolled": true
   },
   "outputs": [],
   "source": []
  },
  {
   "cell_type": "code",
   "execution_count": null,
   "metadata": {},
   "outputs": [],
   "source": []
  }
 ],
 "metadata": {
  "kernelspec": {
   "display_name": "Python 3",
   "language": "python",
   "name": "python3"
  },
  "language_info": {
   "codemirror_mode": {
    "name": "ipython",
    "version": 3
   },
   "file_extension": ".py",
   "mimetype": "text/x-python",
   "name": "python",
   "nbconvert_exporter": "python",
   "pygments_lexer": "ipython3",
   "version": "3.6.5"
  }
 },
 "nbformat": 4,
 "nbformat_minor": 2
}
