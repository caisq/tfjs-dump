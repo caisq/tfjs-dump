{
 "cells": [
  {
   "cell_type": "code",
   "execution_count": 1,
   "metadata": {
    "scrolled": true
   },
   "outputs": [],
   "source": [
    "import debugger_magic"
   ]
  },
  {
   "cell_type": "code",
   "execution_count": 2,
   "metadata": {
    "scrolled": false
   },
   "outputs": [
    {
     "data": {
      "text/html": [
       "<link rel=\"stylesheet\" type=\"text/css\" href=\"debugger.css\">\n",
       "<div id=\"extension-div\">\n",
       "  <button id=\"step-button\">Step</button>\n",
       "  <script>exports = {};</script>  <!-- TODO(cais): Get rid of this band-aid for tsc. -->\n",
       "</div>\n"
      ],
      "text/plain": [
       "<IPython.core.display.HTML object>"
      ]
     },
     "metadata": {},
     "output_type": "display_data"
    },
    {
     "data": {
      "application/javascript": [
       "\"use strict\";\n",
       "Object.defineProperty(exports, \"__esModule\", { value: true });\n",
       "console.log('In frontend.ts');\n",
       "var CommHandler = /** @class */ (function () {\n",
       "    function CommHandler() {\n",
       "        this.codeLinesCallback = null;\n",
       "        this.frameDataCallback = null;\n",
       "        this.comm = null;\n",
       "    }\n",
       "    CommHandler.prototype.openComm = function () {\n",
       "        var _this = this;\n",
       "        if (Jupyter.notebook.kernel == null) {\n",
       "            throw new Error('Jupyter notebook kernel is not available.');\n",
       "        }\n",
       "        this.comm = Jupyter.notebook.kernel.comm_manager.new_comm('debugger_comm_target', { 'foo': -1 });\n",
       "        // Register a message handler.\n",
       "        this.comm.on_msg(function (msg) {\n",
       "            var data = msg.content.data;\n",
       "            console.log('In on_msg(): data = ', data); // DEBUG\n",
       "            if ('code_lines' in data && _this.codeLinesCallback != null) {\n",
       "                _this.codeLinesCallback(data['code_lines']);\n",
       "            }\n",
       "            else if ('event' in data && _this.frameDataCallback != null) {\n",
       "                _this.frameDataCallback(data);\n",
       "            }\n",
       "            else if ('local_names' in data) {\n",
       "                // TODO(cais): Hook up with UI logic.\n",
       "                console.log('Local names:', data); // DEBUG\n",
       "            }\n",
       "        });\n",
       "    };\n",
       "    CommHandler.prototype.sendMessage = function (action) {\n",
       "        this.comm.send(action);\n",
       "    };\n",
       "    CommHandler.prototype.registerFrameDataCallback = function (callback) {\n",
       "        this.frameDataCallback = callback;\n",
       "    };\n",
       "    CommHandler.prototype.registerCodeLinesCallback = function (callback) {\n",
       "        this.codeLinesCallback = callback;\n",
       "    };\n",
       "    return CommHandler;\n",
       "}());\n",
       "function toHTMLEntities(str) {\n",
       "    return String(str)\n",
       "        .replace(/ /g, '&nbsp;')\n",
       "        // .replace(/&/g, '&amp;')\n",
       "        .replace(/</g, '&lt;')\n",
       "        .replace(/>/g, '&gt;')\n",
       "        .replace(/\"/g, '&quot;');\n",
       "}\n",
       "var DebuggerCompoenent = /** @class */ (function () {\n",
       "    function DebuggerCompoenent(rootDiv, codeLines) {\n",
       "        this.lineNum2Gutter = {};\n",
       "        this.activeLineNum = null;\n",
       "        this.rootDiv = rootDiv;\n",
       "        this.codeDiv = document.createElement('div');\n",
       "        this.codeDiv.classList.add('debugger-extension-code-div');\n",
       "        this.rootDiv.appendChild(this.codeDiv);\n",
       "        this.watchDiv = document.createElement('div');\n",
       "        this.watchDiv.classList.add('debugger-extension-watch-div');\n",
       "        this.rootDiv.appendChild(this.codeDiv);\n",
       "        this.codeLines = codeLines;\n",
       "    }\n",
       "    DebuggerCompoenent.prototype.renderCodeLines = function () {\n",
       "        var _this = this;\n",
       "        this.codeLines.forEach(function (line, i) {\n",
       "            var lineElement = document.createElement('div');\n",
       "            lineElement.classList.add('debugger-extension-code-line-container');\n",
       "            var lineGutterElement = document.createElement('div');\n",
       "            lineGutterElement.classList.add('debugger-extension-code-line-gutter');\n",
       "            lineElement.appendChild(lineGutterElement);\n",
       "            _this.lineNum2Gutter[i + 1] = lineGutterElement;\n",
       "            var lineNumElement = document.createElement('div');\n",
       "            lineNumElement.textContent = \"\" + (i + 1);\n",
       "            lineNumElement.classList.add('debugger-extension-code-line-num');\n",
       "            lineElement.appendChild(lineNumElement);\n",
       "            var lineCodeElement = document.createElement('div');\n",
       "            lineCodeElement.classList.add('debugger-extension-code-line-code');\n",
       "            lineCodeElement.innerHTML = toHTMLEntities(line);\n",
       "            lineElement.appendChild(lineCodeElement);\n",
       "            _this.codeDiv.appendChild(lineElement);\n",
       "        });\n",
       "    };\n",
       "    DebuggerCompoenent.prototype.setActiveLineNum = function (lineNum) {\n",
       "        if (this.activeLineNum != null && this.activeLineNum !== lineNum) {\n",
       "            this.lineNum2Gutter[this.activeLineNum].textContent = '';\n",
       "        }\n",
       "        this.activeLineNum = lineNum;\n",
       "        this.lineNum2Gutter[lineNum].textContent = '▶';\n",
       "    };\n",
       "    return DebuggerCompoenent;\n",
       "}());\n",
       "function main() {\n",
       "    var extensionDiv = document.getElementById('extension-div');\n",
       "    var componentDiv = document.createElement('div');\n",
       "    componentDiv.textContent = 'Waiting for Python source code...';\n",
       "    extensionDiv.appendChild(componentDiv);\n",
       "    var debuggerComponent;\n",
       "    var comm;\n",
       "    var stepButton = document.getElementById('step-button');\n",
       "    stepButton.addEventListener('click', function () {\n",
       "        if (comm == null) {\n",
       "            comm = new CommHandler();\n",
       "            comm.registerCodeLinesCallback(function (codeLines) {\n",
       "                componentDiv.textContent = '';\n",
       "                debuggerComponent = new DebuggerCompoenent(componentDiv, codeLines);\n",
       "                debuggerComponent.renderCodeLines();\n",
       "            });\n",
       "            comm.registerFrameDataCallback(function (frameData) {\n",
       "                console.log('frameData:', frameData); // DEBUG\n",
       "                if (!frameData.filename.startsWith('<ipython-input-')) {\n",
       "                    return;\n",
       "                }\n",
       "                debuggerComponent.setActiveLineNum(frameData.lineno);\n",
       "                comm.sendMessage({ command: 'get_local_names' });\n",
       "                // stepButton.textContent = `Incoming value: ${JSON.stringify(incomingValue)}`;\n",
       "            });\n",
       "            comm.openComm();\n",
       "        }\n",
       "        comm.sendMessage({ command: 'step' });\n",
       "    });\n",
       "}\n",
       "main();\n",
       "//# sourceMappingURL=debugger_frontend.js.map"
      ],
      "text/plain": [
       "<IPython.core.display.Javascript object>"
      ]
     },
     "metadata": {},
     "output_type": "display_data"
    }
   ],
   "source": [
    "%%debugger_magic\n",
    "print(1234)\n",
    "\n",
    "\n",
    "def _add_two(v):\n",
    "    return v + 2\n",
    "\n",
    "\n",
    "x = 1\n",
    "y = 11\n",
    "z = x + y\n",
    "if z > 10:\n",
    "    for i in range(5):\n",
    "        z = z * 2\n",
    "    z = _add_two(z ** 2)\n",
    "print(z)"
   ]
  },
  {
   "cell_type": "code",
   "execution_count": null,
   "metadata": {
    "scrolled": false
   },
   "outputs": [],
   "source": [
    "    %%debugger_magic\n",
    "\n",
    "import tensorflow as tf\n",
    "tf.enable_eager_execution()\n",
    "\n",
    "\n",
    "\n",
    "def _add_one(v):\n",
    "    return v + 1\n",
    "\n",
    "\n",
    "def main():\n",
    "  a = tf.constant(3.14)\n",
    "  x = 8\n",
    "  y = 9\n",
    "  v = [1, 2, 3, 4, 5, 6, 7]  # Array\n",
    "  z = x + y\n",
    "  # Invoke _add_one()\n",
    "  z = _add_one(z)\n",
    "  print(z)\n",
    "\n",
    "\n",
    "main()"
   ]
  },
  {
   "cell_type": "code",
   "execution_count": null,
   "metadata": {
    "scrolled": true
   },
   "outputs": [],
   "source": [
    "import asyncio\n",
    "async def fn():\n",
    "  print('hello')\n",
    "  await asyncio.sleep(1)\n",
    "  print('world')\n",
    "\n",
    "await fn()"
   ]
  },
  {
   "cell_type": "code",
   "execution_count": null,
   "metadata": {},
   "outputs": [],
   "source": [
    "raise KeyboardInterrupt"
   ]
  },
  {
   "cell_type": "code",
   "execution_count": null,
   "metadata": {},
   "outputs": [],
   "source": []
  }
 ],
 "metadata": {
  "kernelspec": {
   "display_name": "Python 3",
   "language": "python",
   "name": "python3"
  },
  "language_info": {
   "codemirror_mode": {
    "name": "ipython",
    "version": 3
   },
   "file_extension": ".py",
   "mimetype": "text/x-python",
   "name": "python",
   "nbconvert_exporter": "python",
   "pygments_lexer": "ipython3",
   "version": "3.6.5"
  }
 },
 "nbformat": 4,
 "nbformat_minor": 2
}
