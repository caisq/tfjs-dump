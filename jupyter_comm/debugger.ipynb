{
 "cells": [
  {
   "cell_type": "code",
   "execution_count": null,
   "metadata": {},
   "outputs": [],
   "source": [
    "import json\n",
    "import sys\n",
    "\n",
    "import IPython\n",
    "from IPython import display\n",
    "from ipykernel.comm import Comm"
   ]
  },
  {
   "cell_type": "code",
   "execution_count": null,
   "metadata": {},
   "outputs": [],
   "source": [
    "from IPython.core.magic import register_cell_magic\n",
    "import sys\n",
    "\n",
    "@register_cell_magic\n",
    "def debugger_magic(line, cell):\n",
    "    \"my debugger jupyter magic\"\n",
    "    cell_lines = cell.split('\\n')\n",
    "\n",
    "    def trace_function(frame, event, arg):\n",
    "        if frame.f_code.co_filename.startswith('<ipython-input-'):\n",
    "            source_line = cell_lines[frame.f_lineno - 1]\n",
    "            print('%s @ \"%s\" (%s: %s: Line %d)' %\n",
    "                  (event, source_line, frame.f_code.co_filename,\n",
    "                   frame.f_code.co_name, frame.f_lineno))\n",
    "            return trace_function\n",
    "        else:\n",
    "            return None\n",
    "        \n",
    "    display.display(display.HTML(\n",
    "        '<div id=\"extension-div\">' +\n",
    "        '<button id=\"step-button\">Step</button>' +\n",
    "        '</div>'))\n",
    "    display.display(display.Javascript(filename='debugger_frontend.js'))\n",
    "\n",
    "    sys.settrace(trace_function)\n",
    "    IPython.get_ipython().kernel.do_execute(cell, False)\n",
    "    sys.settrace(None)\n",
    "    return line, cell"
   ]
  },
  {
   "cell_type": "code",
   "execution_count": 130,
   "metadata": {},
   "outputs": [
    {
     "data": {
      "text/html": [
       "<div id=\"extension-div\"><button id=\"step-button\">Step</button></div>"
      ],
      "text/plain": [
       "<IPython.core.display.HTML object>"
      ]
     },
     "metadata": {},
     "output_type": "display_data"
    },
    {
     "data": {
      "application/javascript": [
       "console.log('In frontend.js');\n",
       "\n",
       "class CommHandler {\n",
       "  constructor() {\n",
       "    this.comm = null;\n",
       "    this.callback = null;\n",
       "  }\n",
       "\n",
       "  openComm() {\n",
       "    if (Jupyter.notebook.kernel == null) {\n",
       "      throw new Error('Jupyter notebook kernel is not available.');\n",
       "    }\n",
       "    this.comm = Jupyter.notebook.kernel.comm_manager.new_comm('foo_comm_target', {\n",
       "      'foo': -1\n",
       "    });\n",
       "    // Register a message handler.\n",
       "    this.comm.on_msg((msg) => {\n",
       "      console.log('In on_msg(): msg.content.data = ', msg.content.data);\n",
       "      if (this.callback != null) {\n",
       "        this.callback(msg.content.data.foo);\n",
       "      }\n",
       "    });\n",
       "  }\n",
       "\n",
       "  sendMessage(fooValue) {\n",
       "    this.comm.send({'foo': fooValue});\n",
       "  }\n",
       "\n",
       "  registerCallback(callback) {\n",
       "    this.callback = callback;\n",
       "  }\n",
       "}\n",
       "\n",
       "\n",
       "function main() {\n",
       "  const extensionDiv = document.getElementById('extension-div');\n",
       "  const childDiv = document.createElement('div');\n",
       "  childDiv.textContent = 'Child Div';\n",
       "  extensionDiv.appendChild(childDiv);\n",
       "\n",
       "  let comm;\n",
       "  const stepButton = document.getElementById('step-button');\n",
       "  console.log('connectButton:', stepButton);  // DEBUG\n",
       "  stepButton.addEventListener('click', () => {\n",
       "    if (comm == null) {\n",
       "      comm = new CommHandler();\n",
       "      comm.registerCallback(fooValue => {\n",
       "        stepButton.textContent = `Foo value: ${fooValue}`;\n",
       "      });\n",
       "      comm.openComm();\n",
       "    }\n",
       "    comm.sendMessage(7);\n",
       "  });\n",
       "}\n",
       "\n",
       "main();"
      ],
      "text/plain": [
       "<IPython.core.display.Javascript object>"
      ]
     },
     "metadata": {},
     "output_type": "display_data"
    },
    {
     "name": "stdout",
     "output_type": "stream",
     "text": [
      "call @ \"import time\" (<ipython-input-129-072b47d8cdf4>: <module>: Line 1)\n",
      "line @ \"import time\" (<ipython-input-129-072b47d8cdf4>: <module>: Line 1)\n",
      "return @ \"import time\" (<ipython-input-129-072b47d8cdf4>: <module>: Line 1)\n",
      "call @ \"import json\" (<ipython-input-129-072b47d8cdf4>: <module>: Line 2)\n",
      "line @ \"import json\" (<ipython-input-129-072b47d8cdf4>: <module>: Line 2)\n",
      "return @ \"import json\" (<ipython-input-129-072b47d8cdf4>: <module>: Line 2)\n",
      "call @ \"print(1234)\" (<ipython-input-129-072b47d8cdf4>: <module>: Line 3)\n",
      "line @ \"print(1234)\" (<ipython-input-129-072b47d8cdf4>: <module>: Line 3)\n",
      "1234\n",
      "return @ \"print(1234)\" (<ipython-input-129-072b47d8cdf4>: <module>: Line 3)\n",
      "call @ \"def _add_two(v):\" (<ipython-input-129-072b47d8cdf4>: <module>: Line 6)\n",
      "line @ \"def _add_two(v):\" (<ipython-input-129-072b47d8cdf4>: <module>: Line 6)\n",
      "return @ \"def _add_two(v):\" (<ipython-input-129-072b47d8cdf4>: <module>: Line 6)\n",
      "call @ \"x = 1\" (<ipython-input-129-072b47d8cdf4>: <module>: Line 10)\n",
      "line @ \"x = 1\" (<ipython-input-129-072b47d8cdf4>: <module>: Line 10)\n",
      "return @ \"x = 1\" (<ipython-input-129-072b47d8cdf4>: <module>: Line 10)\n",
      "call @ \"y = 11\" (<ipython-input-129-072b47d8cdf4>: <module>: Line 11)\n",
      "line @ \"y = 11\" (<ipython-input-129-072b47d8cdf4>: <module>: Line 11)\n",
      "return @ \"y = 11\" (<ipython-input-129-072b47d8cdf4>: <module>: Line 11)\n",
      "call @ \"z = x + y\" (<ipython-input-129-072b47d8cdf4>: <module>: Line 12)\n",
      "line @ \"z = x + y\" (<ipython-input-129-072b47d8cdf4>: <module>: Line 12)\n",
      "return @ \"z = x + y\" (<ipython-input-129-072b47d8cdf4>: <module>: Line 12)\n",
      "call @ \"z = z * 2\" (<ipython-input-129-072b47d8cdf4>: <module>: Line 13)\n",
      "line @ \"z = z * 2\" (<ipython-input-129-072b47d8cdf4>: <module>: Line 13)\n",
      "return @ \"z = z * 2\" (<ipython-input-129-072b47d8cdf4>: <module>: Line 13)\n",
      "call @ \"z = _add_two(z ** 2)\" (<ipython-input-129-072b47d8cdf4>: <module>: Line 14)\n",
      "line @ \"z = _add_two(z ** 2)\" (<ipython-input-129-072b47d8cdf4>: <module>: Line 14)\n",
      "call @ \"def _add_two(v):\" (<ipython-input-129-072b47d8cdf4>: _add_two: Line 6)\n",
      "line @ \"    return v + 2\" (<ipython-input-129-072b47d8cdf4>: _add_two: Line 7)\n",
      "return @ \"    return v + 2\" (<ipython-input-129-072b47d8cdf4>: _add_two: Line 7)\n",
      "return @ \"z = _add_two(z ** 2)\" (<ipython-input-129-072b47d8cdf4>: <module>: Line 14)\n",
      "call @ \"print(z)\" (<ipython-input-129-072b47d8cdf4>: <module>: Line 15)\n",
      "line @ \"print(z)\" (<ipython-input-129-072b47d8cdf4>: <module>: Line 15)\n",
      "578\n",
      "return @ \"print(z)\" (<ipython-input-129-072b47d8cdf4>: <module>: Line 15)\n"
     ]
    },
    {
     "data": {
      "text/plain": [
       "('',\n",
       " 'import time\\nimport json\\nprint(1234)\\n\\n\\ndef _add_two(v):\\n    return v + 2\\n\\n\\nx = 1\\ny = 11\\nz = x + y\\nz = z * 2\\nz = _add_two(z ** 2)\\nprint(z)\\n')"
      ]
     },
     "execution_count": 130,
     "metadata": {},
     "output_type": "execute_result"
    },
    {
     "name": "stdout",
     "output_type": "stream",
     "text": [
      "ERROR! Session/line number was not unique in database. History logging moved to new session 258\n"
     ]
    }
   ],
   "source": [
    "%%debugger_magic\n",
    "import time\n",
    "import json\n",
    "print(1234)\n",
    "\n",
    "\n",
    "def _add_two(v):\n",
    "    return v + 2\n",
    "\n",
    "\n",
    "x = 1\n",
    "y = 11\n",
    "z = x + y\n",
    "z = z * 2\n",
    "z = _add_two(z ** 2)\n",
    "print(z)"
   ]
  },
  {
   "cell_type": "code",
   "execution_count": null,
   "metadata": {
    "scrolled": true
   },
   "outputs": [],
   "source": [
    "%%debugger_magic\n",
    "\n",
    "import tensorflow as tf\n",
    "tf.enable_eager_execution()\n",
    "\n",
    "\n",
    "def _add_one(v):\n",
    "    return v + 1\n",
    "\n",
    "\n",
    "def main():\n",
    "  a = tf.constant(3.14)\n",
    "  x = 8\n",
    "  y = 9\n",
    "  v = [1, 2, 3, 4, 5, 6, 7]  # Array\n",
    "  z = x + y\n",
    "  # Invoke _add_one()\n",
    "  z = _add_one(z)\n",
    "  print(z)\n",
    "\n",
    "\n",
    "main()"
   ]
  },
  {
   "cell_type": "code",
   "execution_count": null,
   "metadata": {},
   "outputs": [],
   "source": [
    "display.display(display.HTML(\n",
    "    '<div id=\"extension-div\">Extension Div' +\n",
    "    '<button id=\"step-button\">Step</button>' +\n",
    "    '</div>'))\n",
    "display.display(display.Javascript(filename='debugger_frontend.js'))"
   ]
  },
  {
   "cell_type": "code",
   "execution_count": null,
   "metadata": {},
   "outputs": [],
   "source": []
  }
 ],
 "metadata": {
  "kernelspec": {
   "display_name": "Python 3",
   "language": "python",
   "name": "python3"
  },
  "language_info": {
   "codemirror_mode": {
    "name": "ipython",
    "version": 3
   },
   "file_extension": ".py",
   "mimetype": "text/x-python",
   "name": "python",
   "nbconvert_exporter": "python",
   "pygments_lexer": "ipython3",
   "version": "3.6.5"
  }
 },
 "nbformat": 4,
 "nbformat_minor": 2
}
